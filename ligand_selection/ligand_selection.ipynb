{
  "nbformat": 4,
  "nbformat_minor": 0,
  "metadata": {
    "colab": {
      "provenance": []
    },
    "kernelspec": {
      "name": "python3",
      "display_name": "Python 3"
    },
    "language_info": {
      "name": "python"
    }
  },
  "cells": [
    {
      "cell_type": "code",
      "source": [
        "!pip install -q chembl_webresource_client"
      ],
      "metadata": {
        "colab": {
          "base_uri": "https://localhost:8080/"
        },
        "id": "eNL3aPvDZURV",
        "outputId": "dcaebf4a-4be1-4193-e552-536428c67934"
      },
      "execution_count": null,
      "outputs": [
        {
          "output_type": "stream",
          "name": "stdout",
          "text": [
            "\u001b[2K   \u001b[90m━━━━━━━━━━━━━━━━━━━━━━━━━━━━━━━━━━━━━━━━\u001b[0m \u001b[32m55.2/55.2 kB\u001b[0m \u001b[31m458.4 kB/s\u001b[0m eta \u001b[36m0:00:00\u001b[0m\n",
            "\u001b[2K   \u001b[90m━━━━━━━━━━━━━━━━━━━━━━━━━━━━━━━━━━━━━━━━\u001b[0m \u001b[32m61.4/61.4 kB\u001b[0m \u001b[31m1.6 MB/s\u001b[0m eta \u001b[36m0:00:00\u001b[0m\n",
            "\u001b[2K   \u001b[90m━━━━━━━━━━━━━━━━━━━━━━━━━━━━━━━━━━━━━━━━\u001b[0m \u001b[32m69.4/69.4 kB\u001b[0m \u001b[31m2.1 MB/s\u001b[0m eta \u001b[36m0:00:00\u001b[0m\n",
            "\u001b[?25h"
          ]
        }
      ]
    },
    {
      "cell_type": "code",
      "source": [
        "from chembl_webresource_client.new_client import new_client\n",
        "import pandas as pd\n",
        "from typing import List, Union\n",
        "\n",
        "def get_similar_chembl_compounds(smiles_list: List[str], threshold: int = 75, return_combined: bool = True) -> Union[pd.DataFrame, dict]:\n",
        "    \"\"\"\n",
        "    Search ChEMBL for similar compounds (Tanimoto ≥ threshold) for multiple SMILES inputs.\n",
        "\n",
        "    Parameters:\n",
        "        smiles_list (list of str): Query SMILES strings\n",
        "        threshold (int): Tanimoto similarity threshold (default 85)\n",
        "        return_combined (bool): If True, return one combined DataFrame. If False, return dict per SMILES.\n",
        "\n",
        "    Returns:\n",
        "        pd.DataFrame or dict: Combined DataFrame or dict of DataFrames per input SMILES\n",
        "    \"\"\"\n",
        "    results = {}\n",
        "\n",
        "    for smi in smiles_list:\n",
        "        print(f\"🔍 Searching similar to: {smi} (≥{threshold}%)\")\n",
        "        try:\n",
        "            hits = new_client.similarity.filter(smiles=smi, similarity=threshold)\n",
        "        except Exception as e:\n",
        "            print(f\"⚠️ Error for {smi}: {e}\")\n",
        "            continue\n",
        "\n",
        "        if not hits:\n",
        "            print(f\"⚠️ No similar compounds found for {smi}\")\n",
        "            continue\n",
        "\n",
        "        data = []\n",
        "        for mol in hits:\n",
        "            struct = mol.get(\"molecule_structures\") or {}\n",
        "            smiles_hit = struct.get(\"canonical_smiles\", \"N/A\")\n",
        "            similarity_score = mol.get(\"similarity\", None)\n",
        "\n",
        "            if similarity_score is None:\n",
        "                continue\n",
        "\n",
        "            data.append({\n",
        "                \"Query_SMILES\": smi,\n",
        "                \"ChEMBL_ID\": mol.get(\"molecule_chembl_id\"),\n",
        "                \"Similarity\": similarity_score,\n",
        "                \"SMILES\": smiles_hit\n",
        "            })\n",
        "\n",
        "        if not data:\n",
        "            print(f\"⚠️ No valid results for {smi}\")\n",
        "            continue\n",
        "\n",
        "        df = pd.DataFrame(data).sort_values(\"Similarity\", ascending=False)\n",
        "        results[smi] = df\n",
        "        print(f\"✅ Found {len(df)} compounds for {smi}.\")\n",
        "\n",
        "    if not results:\n",
        "        print(\"❌ No valid results for any SMILES.\")\n",
        "        return pd.DataFrame() if return_combined else {}\n",
        "\n",
        "    return pd.concat(results.values(), ignore_index=True) if return_combined else results"
      ],
      "metadata": {
        "id": "wMXGYrZM6LBT"
      },
      "execution_count": null,
      "outputs": []
    },
    {
      "cell_type": "code",
      "source": [
        "smiles_batch = [\"C1=CC2=CC(=CN=C2N=C1)C(=O)N\" ##1,8-Naphthyridine-3-carboxamide\n",
        " ]\n",
        "\n",
        "df = get_similar_chembl_compounds(smiles_batch, threshold=60, return_combined=True)\n",
        "\n",
        "print(df)\n",
        "\n",
        "df.to_csv('similar_compounds_1,8-Naphthyridine-3-carboxamide.csv')"
      ],
      "metadata": {
        "colab": {
          "base_uri": "https://localhost:8080/"
        },
        "id": "6ueudQFw6mAU",
        "outputId": "2d1e076f-9c7e-421a-8bb2-ec782d2ce9e4"
      },
      "execution_count": null,
      "outputs": [
        {
          "output_type": "stream",
          "name": "stdout",
          "text": [
            "🔍 Searching similar to: C1=CC2=CC(=CN=C2N=C1)C(=O)N (≥60%)\n",
            "✅ Found 1 compounds for C1=CC2=CC(=CN=C2N=C1)C(=O)N.\n",
            "                  Query_SMILES     ChEMBL_ID                Similarity  \\\n",
            "0  C1=CC2=CC(=CN=C2N=C1)C(=O)N  CHEMBL216226  60.000002384185791015625   \n",
            "\n",
            "                 SMILES  \n",
            "0  NC(=O)c1cnc2ccccc2c1  \n"
          ]
        }
      ]
    },
    {
      "cell_type": "code",
      "source": [
        "smiles_batch = [\"CC(C)C1=C(C(=C2C(=C1)CC[C@@H]3[C@@]2(CCCC3(C)C)C(=O)O)O)O\" ]  ##Carnosic acid\n",
        "\n",
        "df = get_similar_chembl_compounds(smiles_batch, threshold=60, return_combined=True)\n",
        "\n",
        "print(df)\n",
        "\n",
        "df.to_csv('similar_compounds_carnosic_acid.csv')"
      ],
      "metadata": {
        "colab": {
          "base_uri": "https://localhost:8080/"
        },
        "id": "X8frp_J1c0sl",
        "outputId": "c571d58a-0b4b-4cdd-ecaa-e452e8678be4"
      },
      "execution_count": null,
      "outputs": [
        {
          "output_type": "stream",
          "name": "stdout",
          "text": [
            "🔍 Searching similar to: CC(C)C1=C(C(=C2C(=C1)CC[C@@H]3[C@@]2(CCCC3(C)C)C(=O)O)O)O (≥60%)\n",
            "✅ Found 21 compounds for CC(C)C1=C(C(=C2C(=C1)CC[C@@H]3[C@@]2(CCCC3(C)C)C(=O)O)O)O.\n",
            "                                         Query_SMILES      ChEMBL_ID  \\\n",
            "0   CC(C)C1=C(C(=C2C(=C1)CC[C@@H]3[C@@]2(CCCC3(C)C...  CHEMBL4868012   \n",
            "1   CC(C)C1=C(C(=C2C(=C1)CC[C@@H]3[C@@]2(CCCC3(C)C...  CHEMBL1096627   \n",
            "2   CC(C)C1=C(C(=C2C(=C1)CC[C@@H]3[C@@]2(CCCC3(C)C...  CHEMBL4471445   \n",
            "3   CC(C)C1=C(C(=C2C(=C1)CC[C@@H]3[C@@]2(CCCC3(C)C...  CHEMBL2333537   \n",
            "4   CC(C)C1=C(C(=C2C(=C1)CC[C@@H]3[C@@]2(CCCC3(C)C...  CHEMBL4519804   \n",
            "5   CC(C)C1=C(C(=C2C(=C1)CC[C@@H]3[C@@]2(CCCC3(C)C...  CHEMBL4515503   \n",
            "6   CC(C)C1=C(C(=C2C(=C1)CC[C@@H]3[C@@]2(CCCC3(C)C...  CHEMBL4574206   \n",
            "7   CC(C)C1=C(C(=C2C(=C1)CC[C@@H]3[C@@]2(CCCC3(C)C...  CHEMBL4451825   \n",
            "8   CC(C)C1=C(C(=C2C(=C1)CC[C@@H]3[C@@]2(CCCC3(C)C...  CHEMBL4471914   \n",
            "9   CC(C)C1=C(C(=C2C(=C1)CC[C@@H]3[C@@]2(CCCC3(C)C...  CHEMBL4447764   \n",
            "10  CC(C)C1=C(C(=C2C(=C1)CC[C@@H]3[C@@]2(CCCC3(C)C...  CHEMBL4468065   \n",
            "11  CC(C)C1=C(C(=C2C(=C1)CC[C@@H]3[C@@]2(CCCC3(C)C...   CHEMBL221380   \n",
            "12  CC(C)C1=C(C(=C2C(=C1)CC[C@@H]3[C@@]2(CCCC3(C)C...  CHEMBL2376099   \n",
            "13  CC(C)C1=C(C(=C2C(=C1)CC[C@@H]3[C@@]2(CCCC3(C)C...  CHEMBL4447390   \n",
            "14  CC(C)C1=C(C(=C2C(=C1)CC[C@@H]3[C@@]2(CCCC3(C)C...   CHEMBL479111   \n",
            "15  CC(C)C1=C(C(=C2C(=C1)CC[C@@H]3[C@@]2(CCCC3(C)C...  CHEMBL4576693   \n",
            "16  CC(C)C1=C(C(=C2C(=C1)CC[C@@H]3[C@@]2(CCCC3(C)C...  CHEMBL4544242   \n",
            "17  CC(C)C1=C(C(=C2C(=C1)CC[C@@H]3[C@@]2(CCCC3(C)C...  CHEMBL4436108   \n",
            "18  CC(C)C1=C(C(=C2C(=C1)CC[C@@H]3[C@@]2(CCCC3(C)C...  CHEMBL2374044   \n",
            "19  CC(C)C1=C(C(=C2C(=C1)CC[C@@H]3[C@@]2(CCCC3(C)C...   CHEMBL484853   \n",
            "20  CC(C)C1=C(C(=C2C(=C1)CC[C@@H]3[C@@]2(CCCC3(C)C...  CHEMBL5407683   \n",
            "\n",
            "                   Similarity  \\\n",
            "0    80.392158031463623046875   \n",
            "1    80.392158031463623046875   \n",
            "2     77.99999713897705078125   \n",
            "3     77.99999713897705078125   \n",
            "4     76.47058963775634765625   \n",
            "5                          75   \n",
            "6   73.5849082469940185546875   \n",
            "7    72.222220897674560546875   \n",
            "8   70.9090888500213623046875   \n",
            "9    68.965518474578857421875   \n",
            "10  67.2413766384124755859375   \n",
            "11   66.071426868438720703125   \n",
            "12   65.384614467620849609375   \n",
            "13   64.999997615814208984375   \n",
            "14   63.636362552642822265625   \n",
            "15  63.4615361690521240234375   \n",
            "16                    60.9375   \n",
            "17   60.000002384185791015625   \n",
            "18                        100   \n",
            "19                        100   \n",
            "20                        100   \n",
            "\n",
            "                                               SMILES  \n",
            "0   COc1c(C(C)C)cc2c(c1O)[C@]1(C(=O)O)CCCC(C)(C)[C...  \n",
            "1   COc1c(C(C)C)cc2c(c1O)[C@@]1(C(=O)O)CCCC(C)(C)[...  \n",
            "2   CNC(=O)[C@]12CCCC(C)(C)[C@@H]1CCc1cc(C(C)C)c(O...  \n",
            "3   COC(=O)[C@]12CCCC(C)(C)[C@@H]1CCc1cc(C(C)C)c(O...  \n",
            "4   CC(C)c1cc2c(c(O)c1O)[C@@]1(C(=O)NN)CCCC(C)(C)[...  \n",
            "5   CC(=O)NC(=O)[C@]12CCCC(C)(C)[C@@H]1CCc1cc(C(C)...  \n",
            "6   CC(C)c1cc2c(c(O)c1O)[C@@]1(C(=O)NC(N)=O)CCCC(C...  \n",
            "7   CC(C)c1cc2c(c(O)c1O)[C@@]1(C(=O)NC3CCCCCC3)CCC...  \n",
            "8   CC(C)c1cc2c(c(O)c1O)[C@@]1(C(=O)NCCO)CCCC(C)(C...  \n",
            "9   CC(C)c1cc2c(c(O)c1O)[C@@]1(C(=O)NCc3ccccc3)CCC...  \n",
            "10  CC(C)c1cc2c(c(O)c1O)[C@@]1(C(=O)NCCN(C)C)CCCC(...  \n",
            "11  COC(=O)[C@]12CCCC(C)(C)[C@@H]1CCc1cc(C(C)C)c(O...  \n",
            "12  CC(C)c1cc2c(c(O)c1O)[C@@]1(C=O)CCCC(C)(C)[C@@H...  \n",
            "13  CC(C)c1cc2c(c(O)c1O)[C@@]1(C(=O)NC(=O)c3ccc(Br...  \n",
            "14   COc1cc2c(cc1C(C)C)CC[C@H]1C(C)(C)CCC[C@]21C(=O)O  \n",
            "15  CC(C)c1cc2c(c(O)c1O)[C@@]1(CO)CCCC(C)(C)[C@@H]...  \n",
            "16  CC(C)c1cc2c(c(O)c1O)[C@@]1(C(=O)NC(=O)[C@H](C)...  \n",
            "17  CC(C)c1cc2c(c(O)c1O)[C@@]1(C(=O)NCc3cccnc3)CCC...  \n",
            "18   CC(C)c1cc2c(c(O)c1O)[C@]1(C(=O)O)CCCC(C)(C)C1CC2  \n",
            "19  CC(C)c1cc2c(c(O)c1O)[C@@]1(C(=O)O)CCCC(C)(C)[C...  \n",
            "20  CC(C)c1cc2c(c(O)c1O)[C@@]1(C(=O)O)CCCC(C)(C)C1CC2  \n"
          ]
        }
      ]
    },
    {
      "cell_type": "code",
      "source": [
        "# 🧪 Test with a few molecules\n",
        "smiles_batch = [\n",
        "                \"CC(C)C1=C(C(=C2C(=C1)[C@@H]3C[C@@H]4[C@@]2(CCCC4(C)C)C(=O)O3)O)O\" ## carnesol\n",
        " ]\n",
        "\n",
        "# 🔁 Run batch similarity search\n",
        "df = get_similar_chembl_compounds(smiles_batch, threshold=60, return_combined=True)\n",
        "\n",
        "# 📊 Preview\n",
        "print(df)\n",
        "\n",
        "df.to_csv('similar_compounds_carnesol.csv')"
      ],
      "metadata": {
        "colab": {
          "base_uri": "https://localhost:8080/"
        },
        "id": "iPlgw4GOZO4h",
        "outputId": "01499ef1-df5d-4569-b75e-5917cbd9ad20"
      },
      "execution_count": null,
      "outputs": [
        {
          "output_type": "stream",
          "name": "stdout",
          "text": [
            "🔍 Searching similar to: CC(C)C1=C(C(=C2C(=C1)[C@@H]3C[C@@H]4[C@@]2(CCCC4(C)C)C(=O)O3)O)O (≥60%)\n",
            "✅ Found 15 compounds for CC(C)C1=C(C(=C2C(=C1)[C@@H]3C[C@@H]4[C@@]2(CCCC4(C)C)C(=O)O3)O)O.\n",
            "                                         Query_SMILES      ChEMBL_ID  \\\n",
            "0   CC(C)C1=C(C(=C2C(=C1)[C@@H]3C[C@@H]4[C@@]2(CCC...   CHEMBL483017   \n",
            "1   CC(C)C1=C(C(=C2C(=C1)[C@@H]3C[C@@H]4[C@@]2(CCC...   CHEMBL491307   \n",
            "2   CC(C)C1=C(C(=C2C(=C1)[C@@H]3C[C@@H]4[C@@]2(CCC...   CHEMBL478933   \n",
            "3   CC(C)C1=C(C(=C2C(=C1)[C@@H]3C[C@@H]4[C@@]2(CCC...  CHEMBL1079367   \n",
            "4   CC(C)C1=C(C(=C2C(=C1)[C@@H]3C[C@@H]4[C@@]2(CCC...  CHEMBL2376097   \n",
            "5   CC(C)C1=C(C(=C2C(=C1)[C@@H]3C[C@@H]4[C@@]2(CCC...  CHEMBL2333536   \n",
            "6   CC(C)C1=C(C(=C2C(=C1)[C@@H]3C[C@@H]4[C@@]2(CCC...   CHEMBL507166   \n",
            "7   CC(C)C1=C(C(=C2C(=C1)[C@@H]3C[C@@H]4[C@@]2(CCC...   CHEMBL494659   \n",
            "8   CC(C)C1=C(C(=C2C(=C1)[C@@H]3C[C@@H]4[C@@]2(CCC...  CHEMBL1081338   \n",
            "9   CC(C)C1=C(C(=C2C(=C1)[C@@H]3C[C@@H]4[C@@]2(CCC...   CHEMBL464376   \n",
            "10  CC(C)C1=C(C(=C2C(=C1)[C@@H]3C[C@@H]4[C@@]2(CCC...  CHEMBL4544522   \n",
            "11  CC(C)C1=C(C(=C2C(=C1)[C@@H]3C[C@@H]4[C@@]2(CCC...   CHEMBL491879   \n",
            "12  CC(C)C1=C(C(=C2C(=C1)[C@@H]3C[C@@H]4[C@@]2(CCC...  CHEMBL1514916   \n",
            "13  CC(C)C1=C(C(=C2C(=C1)[C@@H]3C[C@@H]4[C@@]2(CCC...   CHEMBL519970   \n",
            "14  CC(C)C1=C(C(=C2C(=C1)[C@@H]3C[C@@H]4[C@@]2(CCC...   CHEMBL218693   \n",
            "\n",
            "                   Similarity  \\\n",
            "0   82.3529422283172607421875   \n",
            "1   82.3529422283172607421875   \n",
            "2   73.5849082469940185546875   \n",
            "3    66.071426868438720703125   \n",
            "4   64.8148119449615478515625   \n",
            "5   64.8148119449615478515625   \n",
            "6   64.8148119449615478515625   \n",
            "7   64.8148119449615478515625   \n",
            "8   61.4035069942474365234375   \n",
            "9   61.4035069942474365234375   \n",
            "10  61.1111104488372802734375   \n",
            "11  61.1111104488372802734375   \n",
            "12                        100   \n",
            "13                        100   \n",
            "14                        100   \n",
            "\n",
            "                                               SMILES  \n",
            "0   CC1(C)CCC[C@@]23C(=O)OC(C[C@@H]12)c1cc(C(CO)CO...  \n",
            "1   CC(CO)c1cc2c(c(O)c1O)[C@@]13CCCC(C)(C)[C@@H]1C...  \n",
            "2   COc1c(C(C)C)cc2c(c1OC)[C@@]13CCCC(C)(C)[C@@H]1...  \n",
            "3   C[C@H]1COc2c1cc1c(c2O)[C@@]23CCCC(C)(C)[C@@H]2...  \n",
            "4   CC(C)c1cc2c(c(O)c1O)[C@@]13CCCC(C)(C)[C@@H]1[C...  \n",
            "5   CC(C)c1cc2c(c(O)c1O)[C@@]13CCCC(C)(C)[C@@H]1[C...  \n",
            "6   CC(C)c1cc2c(c(O)c1O)[C@@]13CCCC(C)(C)[C@@H]1[C...  \n",
            "7   CC(C)c1cc2c(c(O)c1O)[C@@]13CCCC(C)(C)[C@@H]1[C...  \n",
            "8   CO[C@@H]1c2cc(C(C)C)c(O)c(O)c2[C@@]23CCCC(C)(C...  \n",
            "9   CO[C@H]1c2cc(C(C)C)c(O)c(O)c2[C@@]23CCCC(C)(C)...  \n",
            "10  CC(C)c1cc2c(c(O)c1O)[C@@]13CCCC(C)(C)[C@@H]1CC...  \n",
            "11  CC(C)c1cc2c(c(O)c1O)[C@@]13CCCC(C)(C)[C@@H]1C[...  \n",
            "12    CC(C)c1cc2c(c(O)c1O)[C@@]13CCCC(C)(C)C1CC2OC3=O  \n",
            "13  CC(C)c1cc2c(c(O)c1O)[C@@]13CCCC(C)(C)[C@@H]1CC...  \n",
            "14  CC(C)c1cc2c(c(O)c1O)[C@@]13CCCC(C)(C)[C@@H]1C[...  \n"
          ]
        }
      ]
    },
    {
      "cell_type": "code",
      "source": [],
      "metadata": {
        "id": "zQoqXdCeg6CN"
      },
      "execution_count": null,
      "outputs": []
    }
  ]
}